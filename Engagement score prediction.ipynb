{
 "cells": [
  {
   "cell_type": "markdown",
   "id": "c19ea255",
   "metadata": {},
   "source": [
    "# Problem Statement"
   ]
  },
  {
   "cell_type": "markdown",
   "id": "3519c61c",
   "metadata": {},
   "source": [
    "\n",
    "\n",
    "ABC is an online content sharing platform that enables users to create, upload and share the content in the form of videos. It includes videos from different genres like entertainment, education, sports, technology and so on. The maximum duration of video is 10 minutes.\n",
    "\n",
    "Users can like, comment and share the videos on the platform. \n",
    "\n",
    "Based on the user’s interaction with the videos, engagement score is assigned to the video with respect to each user. Engagement score defines how engaging the content of the video is. \n",
    "\n",
    "Understanding the engagement score of the video improves the user’s interaction with the platform. It defines the type of content that is appealing to the user and engages the larger audience.\n",
    "\n"
   ]
  },
  {
   "cell_type": "markdown",
   "id": "1d68f890",
   "metadata": {},
   "source": [
    "# Objective"
   ]
  },
  {
   "cell_type": "markdown",
   "id": "84d51842",
   "metadata": {},
   "source": [
    "\n",
    "\n",
    "The main objective of the problem is to develop the machine learning approach to predict the engagement score of the video on the user level."
   ]
  },
  {
   "cell_type": "code",
   "execution_count": 983,
   "id": "b3dd13b5",
   "metadata": {},
   "outputs": [],
   "source": [
    "import numpy as np\n",
    "import pandas as pd\n",
    "import matplotlib.pyplot as plt\n",
    "import seaborn as sns\n",
    "\n",
    "from sklearn.linear_model import LinearRegression\n",
    "from sklearn.svm import SVR\n",
    "from sklearn.ensemble import GradientBoostingRegressor,AdaBoostRegressor,RandomForestRegressor\n",
    "from lightgbm import LGBMRegressor\n",
    "from xgboost import XGBRegressor\n",
    "from sklearn.ensemble import StackingRegressor\n",
    "\n",
    "from sklearn.preprocessing import LabelEncoder\n",
    "from sklearn.metrics import r2_score,mean_squared_error,make_scorer\n",
    "from sklearn.decomposition import PCA\n",
    "from sklearn.model_selection import train_test_split\n",
    "\n",
    "from sklearn.model_selection import GridSearchCV\n",
    "import optuna\n",
    "from scipy.stats import boxcox"
   ]
  },
  {
   "cell_type": "code",
   "execution_count": 946,
   "id": "63ce1067",
   "metadata": {},
   "outputs": [],
   "source": [
    "data_train = pd.read_csv('train_0OECtn8.csv')\n",
    "data_test  = pd.read_csv('test_1zqHu22.csv')"
   ]
  },
  {
   "cell_type": "code",
   "execution_count": 947,
   "id": "964748a2",
   "metadata": {
    "scrolled": true
   },
   "outputs": [
    {
     "data": {
      "text/html": [
       "<div>\n",
       "<style scoped>\n",
       "    .dataframe tbody tr th:only-of-type {\n",
       "        vertical-align: middle;\n",
       "    }\n",
       "\n",
       "    .dataframe tbody tr th {\n",
       "        vertical-align: top;\n",
       "    }\n",
       "\n",
       "    .dataframe thead th {\n",
       "        text-align: right;\n",
       "    }\n",
       "</style>\n",
       "<table border=\"1\" class=\"dataframe\">\n",
       "  <thead>\n",
       "    <tr style=\"text-align: right;\">\n",
       "      <th></th>\n",
       "      <th>row_id</th>\n",
       "      <th>user_id</th>\n",
       "      <th>category_id</th>\n",
       "      <th>video_id</th>\n",
       "      <th>age</th>\n",
       "      <th>gender</th>\n",
       "      <th>profession</th>\n",
       "      <th>followers</th>\n",
       "      <th>views</th>\n",
       "      <th>engagement_score</th>\n",
       "    </tr>\n",
       "  </thead>\n",
       "  <tbody>\n",
       "    <tr>\n",
       "      <th>0</th>\n",
       "      <td>1</td>\n",
       "      <td>19990</td>\n",
       "      <td>37</td>\n",
       "      <td>128</td>\n",
       "      <td>24</td>\n",
       "      <td>Male</td>\n",
       "      <td>Student</td>\n",
       "      <td>180</td>\n",
       "      <td>1000</td>\n",
       "      <td>4.33</td>\n",
       "    </tr>\n",
       "    <tr>\n",
       "      <th>1</th>\n",
       "      <td>2</td>\n",
       "      <td>5304</td>\n",
       "      <td>32</td>\n",
       "      <td>132</td>\n",
       "      <td>14</td>\n",
       "      <td>Female</td>\n",
       "      <td>Student</td>\n",
       "      <td>330</td>\n",
       "      <td>714</td>\n",
       "      <td>1.79</td>\n",
       "    </tr>\n",
       "    <tr>\n",
       "      <th>2</th>\n",
       "      <td>3</td>\n",
       "      <td>1840</td>\n",
       "      <td>12</td>\n",
       "      <td>24</td>\n",
       "      <td>19</td>\n",
       "      <td>Male</td>\n",
       "      <td>Student</td>\n",
       "      <td>180</td>\n",
       "      <td>138</td>\n",
       "      <td>4.35</td>\n",
       "    </tr>\n",
       "    <tr>\n",
       "      <th>3</th>\n",
       "      <td>4</td>\n",
       "      <td>12597</td>\n",
       "      <td>23</td>\n",
       "      <td>112</td>\n",
       "      <td>19</td>\n",
       "      <td>Male</td>\n",
       "      <td>Student</td>\n",
       "      <td>220</td>\n",
       "      <td>613</td>\n",
       "      <td>3.77</td>\n",
       "    </tr>\n",
       "    <tr>\n",
       "      <th>4</th>\n",
       "      <td>5</td>\n",
       "      <td>13626</td>\n",
       "      <td>23</td>\n",
       "      <td>112</td>\n",
       "      <td>27</td>\n",
       "      <td>Male</td>\n",
       "      <td>Working Professional</td>\n",
       "      <td>220</td>\n",
       "      <td>613</td>\n",
       "      <td>3.13</td>\n",
       "    </tr>\n",
       "  </tbody>\n",
       "</table>\n",
       "</div>"
      ],
      "text/plain": [
       "   row_id  user_id  category_id  video_id  age  gender            profession  \\\n",
       "0       1    19990           37       128   24    Male               Student   \n",
       "1       2     5304           32       132   14  Female               Student   \n",
       "2       3     1840           12        24   19    Male               Student   \n",
       "3       4    12597           23       112   19    Male               Student   \n",
       "4       5    13626           23       112   27    Male  Working Professional   \n",
       "\n",
       "   followers  views  engagement_score  \n",
       "0        180   1000              4.33  \n",
       "1        330    714              1.79  \n",
       "2        180    138              4.35  \n",
       "3        220    613              3.77  \n",
       "4        220    613              3.13  "
      ]
     },
     "execution_count": 947,
     "metadata": {},
     "output_type": "execute_result"
    }
   ],
   "source": [
    "data_train.head()"
   ]
  },
  {
   "cell_type": "code",
   "execution_count": 948,
   "id": "6829510b",
   "metadata": {},
   "outputs": [
    {
     "data": {
      "text/html": [
       "<div>\n",
       "<style scoped>\n",
       "    .dataframe tbody tr th:only-of-type {\n",
       "        vertical-align: middle;\n",
       "    }\n",
       "\n",
       "    .dataframe tbody tr th {\n",
       "        vertical-align: top;\n",
       "    }\n",
       "\n",
       "    .dataframe thead th {\n",
       "        text-align: right;\n",
       "    }\n",
       "</style>\n",
       "<table border=\"1\" class=\"dataframe\">\n",
       "  <thead>\n",
       "    <tr style=\"text-align: right;\">\n",
       "      <th></th>\n",
       "      <th>row_id</th>\n",
       "      <th>user_id</th>\n",
       "      <th>category_id</th>\n",
       "      <th>video_id</th>\n",
       "      <th>age</th>\n",
       "      <th>gender</th>\n",
       "      <th>profession</th>\n",
       "      <th>followers</th>\n",
       "      <th>views</th>\n",
       "    </tr>\n",
       "  </thead>\n",
       "  <tbody>\n",
       "    <tr>\n",
       "      <th>0</th>\n",
       "      <td>89198</td>\n",
       "      <td>7986</td>\n",
       "      <td>12</td>\n",
       "      <td>42</td>\n",
       "      <td>14</td>\n",
       "      <td>Male</td>\n",
       "      <td>Student</td>\n",
       "      <td>180</td>\n",
       "      <td>138</td>\n",
       "    </tr>\n",
       "    <tr>\n",
       "      <th>1</th>\n",
       "      <td>89199</td>\n",
       "      <td>11278</td>\n",
       "      <td>34</td>\n",
       "      <td>115</td>\n",
       "      <td>14</td>\n",
       "      <td>Male</td>\n",
       "      <td>Student</td>\n",
       "      <td>230</td>\n",
       "      <td>840</td>\n",
       "    </tr>\n",
       "    <tr>\n",
       "      <th>2</th>\n",
       "      <td>89200</td>\n",
       "      <td>17245</td>\n",
       "      <td>8</td>\n",
       "      <td>110</td>\n",
       "      <td>44</td>\n",
       "      <td>Female</td>\n",
       "      <td>Working Professional</td>\n",
       "      <td>280</td>\n",
       "      <td>628</td>\n",
       "    </tr>\n",
       "    <tr>\n",
       "      <th>3</th>\n",
       "      <td>89201</td>\n",
       "      <td>9851</td>\n",
       "      <td>16</td>\n",
       "      <td>137</td>\n",
       "      <td>18</td>\n",
       "      <td>Male</td>\n",
       "      <td>Student</td>\n",
       "      <td>270</td>\n",
       "      <td>462</td>\n",
       "    </tr>\n",
       "    <tr>\n",
       "      <th>4</th>\n",
       "      <td>89202</td>\n",
       "      <td>16008</td>\n",
       "      <td>34</td>\n",
       "      <td>96</td>\n",
       "      <td>47</td>\n",
       "      <td>Female</td>\n",
       "      <td>Other</td>\n",
       "      <td>230</td>\n",
       "      <td>840</td>\n",
       "    </tr>\n",
       "  </tbody>\n",
       "</table>\n",
       "</div>"
      ],
      "text/plain": [
       "   row_id  user_id  category_id  video_id  age  gender            profession  \\\n",
       "0   89198     7986           12        42   14    Male               Student   \n",
       "1   89199    11278           34       115   14    Male               Student   \n",
       "2   89200    17245            8       110   44  Female  Working Professional   \n",
       "3   89201     9851           16       137   18    Male               Student   \n",
       "4   89202    16008           34        96   47  Female                 Other   \n",
       "\n",
       "   followers  views  \n",
       "0        180    138  \n",
       "1        230    840  \n",
       "2        280    628  \n",
       "3        270    462  \n",
       "4        230    840  "
      ]
     },
     "execution_count": 948,
     "metadata": {},
     "output_type": "execute_result"
    }
   ],
   "source": [
    "data_test.head()"
   ]
  },
  {
   "cell_type": "markdown",
   "id": "6900ebd8",
   "metadata": {},
   "source": [
    "### Check for Null/missing values in dataset"
   ]
  },
  {
   "cell_type": "code",
   "execution_count": 949,
   "id": "258684e6",
   "metadata": {
    "scrolled": true
   },
   "outputs": [
    {
     "data": {
      "text/plain": [
       "row_id              0\n",
       "user_id             0\n",
       "category_id         0\n",
       "video_id            0\n",
       "age                 0\n",
       "gender              0\n",
       "profession          0\n",
       "followers           0\n",
       "views               0\n",
       "engagement_score    0\n",
       "dtype: int64"
      ]
     },
     "execution_count": 949,
     "metadata": {},
     "output_type": "execute_result"
    }
   ],
   "source": [
    "data_train.isnull().sum()"
   ]
  },
  {
   "cell_type": "markdown",
   "id": "23a0d1fa",
   "metadata": {},
   "source": [
    "No null values present in the dataset."
   ]
  },
  {
   "cell_type": "code",
   "execution_count": 950,
   "id": "e92f0ff5",
   "metadata": {},
   "outputs": [
    {
     "name": "stdout",
     "output_type": "stream",
     "text": [
      "Numerical features are : ['row_id', 'user_id', 'category_id', 'video_id', 'age', 'followers', 'views']\n",
      "Categorical features are: ['gender', 'profession']\n"
     ]
    }
   ],
   "source": [
    "categoricalcolumns = list((data_train.select_dtypes(include=np.object).columns))  ## features with categorical data\n",
    "numericalcolumns   = list((data_train.select_dtypes(include=np.int64).columns))   ## feature with numerical data\n",
    "\n",
    "print('Numerical features are :',numericalcolumns)\n",
    "print('Categorical features are:',categoricalcolumns)\n"
   ]
  },
  {
   "cell_type": "code",
   "execution_count": 951,
   "id": "3c8ac865",
   "metadata": {},
   "outputs": [],
   "source": [
    "# Removing Row_id feature\n",
    "\n",
    "row_id = data_test.row_id.values\n",
    "\n",
    "data_train = data_train.drop('row_id',axis=1)\n",
    "data_test = data_test.drop('row_id',axis=1)"
   ]
  },
  {
   "cell_type": "markdown",
   "id": "7d17c49f",
   "metadata": {},
   "source": [
    "# Exploratory Data Analysis"
   ]
  },
  {
   "cell_type": "code",
   "execution_count": 952,
   "id": "7c06e854",
   "metadata": {},
   "outputs": [
    {
     "data": {
      "text/html": [
       "<div>\n",
       "<style scoped>\n",
       "    .dataframe tbody tr th:only-of-type {\n",
       "        vertical-align: middle;\n",
       "    }\n",
       "\n",
       "    .dataframe tbody tr th {\n",
       "        vertical-align: top;\n",
       "    }\n",
       "\n",
       "    .dataframe thead th {\n",
       "        text-align: right;\n",
       "    }\n",
       "</style>\n",
       "<table border=\"1\" class=\"dataframe\">\n",
       "  <thead>\n",
       "    <tr style=\"text-align: right;\">\n",
       "      <th></th>\n",
       "      <th>user_id</th>\n",
       "      <th>category_id</th>\n",
       "      <th>video_id</th>\n",
       "      <th>age</th>\n",
       "      <th>followers</th>\n",
       "      <th>views</th>\n",
       "      <th>engagement_score</th>\n",
       "    </tr>\n",
       "  </thead>\n",
       "  <tbody>\n",
       "    <tr>\n",
       "      <th>count</th>\n",
       "      <td>89197.000000</td>\n",
       "      <td>89197.000000</td>\n",
       "      <td>89197.000000</td>\n",
       "      <td>89197.000000</td>\n",
       "      <td>89197.000000</td>\n",
       "      <td>89197.000000</td>\n",
       "      <td>89197.000000</td>\n",
       "    </tr>\n",
       "    <tr>\n",
       "      <th>mean</th>\n",
       "      <td>13881.909806</td>\n",
       "      <td>18.323733</td>\n",
       "      <td>77.715383</td>\n",
       "      <td>24.848616</td>\n",
       "      <td>252.460172</td>\n",
       "      <td>502.980268</td>\n",
       "      <td>3.487797</td>\n",
       "    </tr>\n",
       "    <tr>\n",
       "      <th>std</th>\n",
       "      <td>8005.582771</td>\n",
       "      <td>11.675154</td>\n",
       "      <td>48.469656</td>\n",
       "      <td>8.955535</td>\n",
       "      <td>46.094468</td>\n",
       "      <td>268.569482</td>\n",
       "      <td>0.863498</td>\n",
       "    </tr>\n",
       "    <tr>\n",
       "      <th>min</th>\n",
       "      <td>1.000000</td>\n",
       "      <td>1.000000</td>\n",
       "      <td>1.000000</td>\n",
       "      <td>10.000000</td>\n",
       "      <td>160.000000</td>\n",
       "      <td>30.000000</td>\n",
       "      <td>0.000000</td>\n",
       "    </tr>\n",
       "    <tr>\n",
       "      <th>25%</th>\n",
       "      <td>6945.000000</td>\n",
       "      <td>8.000000</td>\n",
       "      <td>34.000000</td>\n",
       "      <td>18.000000</td>\n",
       "      <td>230.000000</td>\n",
       "      <td>229.000000</td>\n",
       "      <td>2.900000</td>\n",
       "    </tr>\n",
       "    <tr>\n",
       "      <th>50%</th>\n",
       "      <td>13892.000000</td>\n",
       "      <td>16.000000</td>\n",
       "      <td>76.000000</td>\n",
       "      <td>23.000000</td>\n",
       "      <td>240.000000</td>\n",
       "      <td>467.000000</td>\n",
       "      <td>3.710000</td>\n",
       "    </tr>\n",
       "    <tr>\n",
       "      <th>75%</th>\n",
       "      <td>20819.000000</td>\n",
       "      <td>26.000000</td>\n",
       "      <td>120.000000</td>\n",
       "      <td>32.000000</td>\n",
       "      <td>280.000000</td>\n",
       "      <td>714.000000</td>\n",
       "      <td>4.150000</td>\n",
       "    </tr>\n",
       "    <tr>\n",
       "      <th>max</th>\n",
       "      <td>27734.000000</td>\n",
       "      <td>47.000000</td>\n",
       "      <td>175.000000</td>\n",
       "      <td>68.000000</td>\n",
       "      <td>360.000000</td>\n",
       "      <td>1000.000000</td>\n",
       "      <td>5.000000</td>\n",
       "    </tr>\n",
       "  </tbody>\n",
       "</table>\n",
       "</div>"
      ],
      "text/plain": [
       "            user_id   category_id      video_id           age     followers  \\\n",
       "count  89197.000000  89197.000000  89197.000000  89197.000000  89197.000000   \n",
       "mean   13881.909806     18.323733     77.715383     24.848616    252.460172   \n",
       "std     8005.582771     11.675154     48.469656      8.955535     46.094468   \n",
       "min        1.000000      1.000000      1.000000     10.000000    160.000000   \n",
       "25%     6945.000000      8.000000     34.000000     18.000000    230.000000   \n",
       "50%    13892.000000     16.000000     76.000000     23.000000    240.000000   \n",
       "75%    20819.000000     26.000000    120.000000     32.000000    280.000000   \n",
       "max    27734.000000     47.000000    175.000000     68.000000    360.000000   \n",
       "\n",
       "              views  engagement_score  \n",
       "count  89197.000000      89197.000000  \n",
       "mean     502.980268          3.487797  \n",
       "std      268.569482          0.863498  \n",
       "min       30.000000          0.000000  \n",
       "25%      229.000000          2.900000  \n",
       "50%      467.000000          3.710000  \n",
       "75%      714.000000          4.150000  \n",
       "max     1000.000000          5.000000  "
      ]
     },
     "execution_count": 952,
     "metadata": {},
     "output_type": "execute_result"
    }
   ],
   "source": [
    "data_train.describe()"
   ]
  },
  {
   "cell_type": "code",
   "execution_count": 953,
   "id": "6b520919",
   "metadata": {},
   "outputs": [
    {
     "data": {
      "image/png": "[encoded data removed]",
      "text/plain": [
       "<Figure size 1008x432 with 1 Axes>"
      ]
     },
     "metadata": {
      "needs_background": "light"
     },
     "output_type": "display_data"
    }
   ],
   "source": [
    "plt.figure(figsize=(14,6))\n",
    "ax = sns.kdeplot(x='engagement_score',data=data_train)\n",
    "ax.set_title('PDF of engagement_score')\n",
    "plt.show()"
   ]
  },
  {
   "cell_type": "markdown",
   "id": "0f2349cb",
   "metadata": {},
   "source": [
    "- Majority of engagement_score falls between 3.5 and 4.5"
   ]
  },
  {
   "cell_type": "code",
   "execution_count": 954,
   "id": "72e599c1",
   "metadata": {},
   "outputs": [
    {
     "name": "stdout",
     "output_type": "stream",
     "text": [
      "Male      52397\n",
      "Female    36800\n",
      "Name: gender, dtype: int64\n",
      "******************************\n",
      "Student                 44638\n",
      "Other                   26840\n",
      "Working Professional    17719\n",
      "Name: profession, dtype: int64\n"
     ]
    }
   ],
   "source": [
    "data_categorical = data_train.select_dtypes(include=object)\n",
    "print(data_categorical.gender.value_counts())\n",
    "print('*'*30)\n",
    "print(data_categorical.profession.value_counts())\n"
   ]
  },
  {
   "cell_type": "code",
   "execution_count": 955,
   "id": "0bf66575",
   "metadata": {},
   "outputs": [
    {
     "data": {
      "image/png": "[encoded data removed]",
      "text/plain": [
       "<Figure size 864x360 with 2 Axes>"
      ]
     },
     "metadata": {
      "needs_background": "light"
     },
     "output_type": "display_data"
    }
   ],
   "source": [
    "fig, ax = plt.subplots(nrows=1, ncols=2, figsize=(12, 5))\n",
    "sns.countplot(x='gender',data=data_train,ax=ax[0])\n",
    "sns.countplot(x='profession',data=data_train,ax=ax[1])\n",
    "plt.show()"
   ]
  },
  {
   "cell_type": "markdown",
   "id": "4cf9fd40",
   "metadata": {},
   "source": [
    "- Males are more than females\n",
    "- There are more number of students than working professional and others"
   ]
  },
  {
   "cell_type": "code",
   "execution_count": 956,
   "id": "f859084b",
   "metadata": {},
   "outputs": [
    {
     "data": {
      "image/png": "[encoded data removed]",
      "text/plain": [
       "<Figure size 1008x432 with 1 Axes>"
      ]
     },
     "metadata": {
      "needs_background": "light"
     },
     "output_type": "display_data"
    }
   ],
   "source": [
    "plt.figure(figsize=(14,6))\n",
    "ax = sns.countplot(x='category_id',data=data_train)\n",
    "ax.set_title('Histogram of category_id')\n",
    "plt.show()"
   ]
  },
  {
   "cell_type": "markdown",
   "id": "51f7e47a",
   "metadata": {},
   "source": [
    "Most occured category of video in the dataset is the 5th catgory followed by 8th, 25th and 19th "
   ]
  },
  {
   "cell_type": "code",
   "execution_count": 11,
   "id": "98716e16",
   "metadata": {},
   "outputs": [
    {
     "data": {
      "image/png": "[encoded data removed]",
      "text/plain": [
       "<Figure size 1800x792 with 1 Axes>"
      ]
     },
     "metadata": {
      "needs_background": "light"
     },
     "output_type": "display_data"
    }
   ],
   "source": [
    "plt.figure(figsize=(25,11))\n",
    "ax = sns.countplot(x='age',data=data_train)\n",
    "ax.set_title('Histogram of Age')\n",
    "plt.xticks(rotation=90)\n",
    "plt.show()"
   ]
  },
  {
   "cell_type": "markdown",
   "id": "bfbe801b",
   "metadata": {},
   "source": [
    "The dataset contains maximum number of observation from the age group between 16 and 21, with 18 being the most observed age. "
   ]
  },
  {
   "cell_type": "markdown",
   "id": "288e2008",
   "metadata": {},
   "source": [
    "### Bivariate Analysis - Pair plot"
   ]
  },
  {
   "cell_type": "code",
   "execution_count": 14,
   "id": "77b0d647",
   "metadata": {},
   "outputs": [
    {
     "data": {
      "image/png": "[encoded data removed]",
      "text/plain": [
       "<Figure size 1260x1260 with 35 Axes>"
      ]
     },
     "metadata": {
      "needs_background": "light"
     },
     "output_type": "display_data"
    }
   ],
   "source": [
    "ax = sns.pairplot(data_train,kind='reg',corner=True, plot_kws={'line_kws':{'color':'red'}})\n",
    "ax.fig.suptitle('Pair Plot',fontsize='large')\n",
    "plt.show()"
   ]
  },
  {
   "cell_type": "markdown",
   "id": "bac71a73",
   "metadata": {},
   "source": [
    "- From the pair plot most features are not at all dependent, but however the features showing some dependance with each other are category_id with video_id and video_id with followers.\n",
    "\n"
   ]
  },
  {
   "cell_type": "code",
   "execution_count": 957,
   "id": "7ba81264",
   "metadata": {},
   "outputs": [],
   "source": [
    "## splitting dataset to dependent and independent variables \n",
    "\n",
    "label_train = data_train.engagement_score.values\n",
    "data_train  = data_train.drop('engagement_score',axis=1)"
   ]
  },
  {
   "cell_type": "markdown",
   "id": "94a93732",
   "metadata": {},
   "source": [
    "### Encoding Categorical Features"
   ]
  },
  {
   "cell_type": "markdown",
   "id": "17a0fcb3",
   "metadata": {},
   "source": [
    "- For encoding we will use One hot encoding for 'gender' feature and label encoding for 'profession' feature"
   ]
  },
  {
   "cell_type": "code",
   "execution_count": 958,
   "id": "32e7b8d4",
   "metadata": {},
   "outputs": [],
   "source": [
    "data_train[['gender_ohe_1','gender_ohe_2']] = pd.get_dummies(data_train['gender'])\n",
    "data_test[['gender_ohe_1','gender_ohe_2']] = pd.get_dummies(data_test['gender'])\n",
    "\n",
    "## removing gender column after one hot encoding\n",
    "data_train = data_train.drop('gender',axis=1)\n",
    "data_test = data_test.drop('gender',axis=1)"
   ]
  },
  {
   "cell_type": "code",
   "execution_count": 959,
   "id": "15e24aa4",
   "metadata": {},
   "outputs": [],
   "source": [
    "# Labelencoding for categorical features\n",
    "\n",
    "le = LabelEncoder()\n",
    "categorical = data_train.select_dtypes(include='object').columns\n",
    "for i in categorical:\n",
    "    data_train[i] = le.fit_transform(data_train[i])\n",
    "    data_test[i] = le.fit_transform(data_test[i])"
   ]
  },
  {
   "cell_type": "code",
   "execution_count": 960,
   "id": "43ed02fe",
   "metadata": {},
   "outputs": [
    {
     "data": {
      "text/html": [
       "<div>\n",
       "<style scoped>\n",
       "    .dataframe tbody tr th:only-of-type {\n",
       "        vertical-align: middle;\n",
       "    }\n",
       "\n",
       "    .dataframe tbody tr th {\n",
       "        vertical-align: top;\n",
       "    }\n",
       "\n",
       "    .dataframe thead th {\n",
       "        text-align: right;\n",
       "    }\n",
       "</style>\n",
       "<table border=\"1\" class=\"dataframe\">\n",
       "  <thead>\n",
       "    <tr style=\"text-align: right;\">\n",
       "      <th></th>\n",
       "      <th>user_id</th>\n",
       "      <th>category_id</th>\n",
       "      <th>video_id</th>\n",
       "      <th>age</th>\n",
       "      <th>profession</th>\n",
       "      <th>followers</th>\n",
       "      <th>views</th>\n",
       "      <th>gender_ohe_1</th>\n",
       "      <th>gender_ohe_2</th>\n",
       "    </tr>\n",
       "  </thead>\n",
       "  <tbody>\n",
       "    <tr>\n",
       "      <th>0</th>\n",
       "      <td>19990</td>\n",
       "      <td>37</td>\n",
       "      <td>128</td>\n",
       "      <td>24</td>\n",
       "      <td>1</td>\n",
       "      <td>180</td>\n",
       "      <td>1000</td>\n",
       "      <td>0</td>\n",
       "      <td>1</td>\n",
       "    </tr>\n",
       "    <tr>\n",
       "      <th>1</th>\n",
       "      <td>5304</td>\n",
       "      <td>32</td>\n",
       "      <td>132</td>\n",
       "      <td>14</td>\n",
       "      <td>1</td>\n",
       "      <td>330</td>\n",
       "      <td>714</td>\n",
       "      <td>1</td>\n",
       "      <td>0</td>\n",
       "    </tr>\n",
       "    <tr>\n",
       "      <th>2</th>\n",
       "      <td>1840</td>\n",
       "      <td>12</td>\n",
       "      <td>24</td>\n",
       "      <td>19</td>\n",
       "      <td>1</td>\n",
       "      <td>180</td>\n",
       "      <td>138</td>\n",
       "      <td>0</td>\n",
       "      <td>1</td>\n",
       "    </tr>\n",
       "    <tr>\n",
       "      <th>3</th>\n",
       "      <td>12597</td>\n",
       "      <td>23</td>\n",
       "      <td>112</td>\n",
       "      <td>19</td>\n",
       "      <td>1</td>\n",
       "      <td>220</td>\n",
       "      <td>613</td>\n",
       "      <td>0</td>\n",
       "      <td>1</td>\n",
       "    </tr>\n",
       "    <tr>\n",
       "      <th>4</th>\n",
       "      <td>13626</td>\n",
       "      <td>23</td>\n",
       "      <td>112</td>\n",
       "      <td>27</td>\n",
       "      <td>2</td>\n",
       "      <td>220</td>\n",
       "      <td>613</td>\n",
       "      <td>0</td>\n",
       "      <td>1</td>\n",
       "    </tr>\n",
       "  </tbody>\n",
       "</table>\n",
       "</div>"
      ],
      "text/plain": [
       "   user_id  category_id  video_id  age  profession  followers  views  \\\n",
       "0    19990           37       128   24           1        180   1000   \n",
       "1     5304           32       132   14           1        330    714   \n",
       "2     1840           12        24   19           1        180    138   \n",
       "3    12597           23       112   19           1        220    613   \n",
       "4    13626           23       112   27           2        220    613   \n",
       "\n",
       "   gender_ohe_1  gender_ohe_2  \n",
       "0             0             1  \n",
       "1             1             0  \n",
       "2             0             1  \n",
       "3             0             1  \n",
       "4             0             1  "
      ]
     },
     "execution_count": 960,
     "metadata": {},
     "output_type": "execute_result"
    }
   ],
   "source": [
    "data_train.head()"
   ]
  },
  {
   "cell_type": "markdown",
   "id": "3ecb9d13",
   "metadata": {},
   "source": [
    "#### Correlation Matrix"
   ]
  },
  {
   "cell_type": "code",
   "execution_count": 961,
   "id": "a8f94a8c",
   "metadata": {},
   "outputs": [
    {
     "data": {
      "image/png": "[encoded data removed]",
      "text/plain": [
       "<Figure size 792x360 with 2 Axes>"
      ]
     },
     "metadata": {
      "needs_background": "light"
     },
     "output_type": "display_data"
    }
   ],
   "source": [
    "plt.figure(figsize=(11,5))\n",
    "sns.heatmap(data_train.corr(),annot=True)\n",
    "plt.title(\"Correlation Matrix\")\n",
    "plt.show()"
   ]
  },
  {
   "cell_type": "markdown",
   "id": "fb98a5d4",
   "metadata": {},
   "source": [
    "- From the correlation matrix, the features 'followers'-'views' and 'category_id'-'video_id' has some correlation with each other, but all of these has very less correlation with the engagement_score.\n",
    "\n",
    "\n",
    "\n",
    "- Most of the features have very less correlation with the engagement scores. The highest correlation is seen with 'gender' feature which is a correlation of 0.41. This is hpwever not so great gbut however it can be said that the engagement score tends to be higher when the gender is Male.\n",
    "\n",
    "\n",
    "- Age also has some negative correlation of -0.23 with the engagement score. This could mean if age is less the engagement score tends to be higher.\n",
    "\n",
    "\n",
    "- As the correlation is not considerable great, information about the important features cannot be infered from the correlation plot\n",
    "\n",
    "\n",
    "- Before feature engineering we will remove video_id feature as it has some correlation with category_id."
   ]
  },
  {
   "cell_type": "code",
   "execution_count": 978,
   "id": "0ce15e7b",
   "metadata": {},
   "outputs": [],
   "source": [
    "data_train = data_train.drop('video_id',axis=1)\n",
    "data_test = data_test.drop('videoi_id',axis=1)"
   ]
  },
  {
   "cell_type": "markdown",
   "id": "ea583392",
   "metadata": {},
   "source": [
    "# Feature Engineering"
   ]
  },
  {
   "cell_type": "markdown",
   "id": "98e0be8d",
   "metadata": {},
   "source": [
    "- Some transformational features was tried out and tested like log(x) ,exp(x), reciprocal(x). And one feature showing slight improvement in performance was boxcox transform of'views'. \n",
    "\n",
    "\n",
    "- One other feature that showed slight improvement was views per followers(views/followers)"
   ]
  },
  {
   "cell_type": "code",
   "execution_count": 963,
   "id": "c5a6ae3f",
   "metadata": {},
   "outputs": [],
   "source": [
    "vpf_train = (data_train.views / data_train.followers)\n",
    "vpf_test = (data_test.views / data_test.followers)\n",
    "data_train['vpf'] = vpf_train\n",
    "data_test['vpf'] = vpf_test"
   ]
  },
  {
   "cell_type": "code",
   "execution_count": 964,
   "id": "156bf6a5",
   "metadata": {},
   "outputs": [],
   "source": [
    "data_train['boxcox_views'], lamda = boxcox(data_train['views'])\n",
    "data_test['boxcox_views'], lamda = boxcox(data_test['views'])"
   ]
  },
  {
   "cell_type": "code",
   "execution_count": 967,
   "id": "99d567e6",
   "metadata": {},
   "outputs": [
    {
     "data": {
      "text/html": [
       "<div>\n",
       "<style scoped>\n",
       "    .dataframe tbody tr th:only-of-type {\n",
       "        vertical-align: middle;\n",
       "    }\n",
       "\n",
       "    .dataframe tbody tr th {\n",
       "        vertical-align: top;\n",
       "    }\n",
       "\n",
       "    .dataframe thead th {\n",
       "        text-align: right;\n",
       "    }\n",
       "</style>\n",
       "<table border=\"1\" class=\"dataframe\">\n",
       "  <thead>\n",
       "    <tr style=\"text-align: right;\">\n",
       "      <th></th>\n",
       "      <th>user_id</th>\n",
       "      <th>category_id</th>\n",
       "      <th>age</th>\n",
       "      <th>profession</th>\n",
       "      <th>followers</th>\n",
       "      <th>views</th>\n",
       "      <th>gender_ohe_1</th>\n",
       "      <th>gender_ohe_2</th>\n",
       "      <th>vpf</th>\n",
       "      <th>boxcox_views</th>\n",
       "    </tr>\n",
       "  </thead>\n",
       "  <tbody>\n",
       "    <tr>\n",
       "      <th>0</th>\n",
       "      <td>19990</td>\n",
       "      <td>37</td>\n",
       "      <td>24</td>\n",
       "      <td>1</td>\n",
       "      <td>180</td>\n",
       "      <td>1000</td>\n",
       "      <td>0</td>\n",
       "      <td>1</td>\n",
       "      <td>5.555556</td>\n",
       "      <td>168.372581</td>\n",
       "    </tr>\n",
       "    <tr>\n",
       "      <th>1</th>\n",
       "      <td>5304</td>\n",
       "      <td>32</td>\n",
       "      <td>14</td>\n",
       "      <td>1</td>\n",
       "      <td>330</td>\n",
       "      <td>714</td>\n",
       "      <td>1</td>\n",
       "      <td>0</td>\n",
       "      <td>2.163636</td>\n",
       "      <td>133.172693</td>\n",
       "    </tr>\n",
       "    <tr>\n",
       "      <th>2</th>\n",
       "      <td>1840</td>\n",
       "      <td>12</td>\n",
       "      <td>19</td>\n",
       "      <td>1</td>\n",
       "      <td>180</td>\n",
       "      <td>138</td>\n",
       "      <td>0</td>\n",
       "      <td>1</td>\n",
       "      <td>0.766667</td>\n",
       "      <td>41.893979</td>\n",
       "    </tr>\n",
       "    <tr>\n",
       "      <th>3</th>\n",
       "      <td>12597</td>\n",
       "      <td>23</td>\n",
       "      <td>19</td>\n",
       "      <td>1</td>\n",
       "      <td>220</td>\n",
       "      <td>613</td>\n",
       "      <td>0</td>\n",
       "      <td>1</td>\n",
       "      <td>2.786364</td>\n",
       "      <td>119.734310</td>\n",
       "    </tr>\n",
       "    <tr>\n",
       "      <th>4</th>\n",
       "      <td>13626</td>\n",
       "      <td>23</td>\n",
       "      <td>27</td>\n",
       "      <td>2</td>\n",
       "      <td>220</td>\n",
       "      <td>613</td>\n",
       "      <td>0</td>\n",
       "      <td>1</td>\n",
       "      <td>2.786364</td>\n",
       "      <td>119.734310</td>\n",
       "    </tr>\n",
       "  </tbody>\n",
       "</table>\n",
       "</div>"
      ],
      "text/plain": [
       "   user_id  category_id  age  profession  followers  views  gender_ohe_1  \\\n",
       "0    19990           37   24           1        180   1000             0   \n",
       "1     5304           32   14           1        330    714             1   \n",
       "2     1840           12   19           1        180    138             0   \n",
       "3    12597           23   19           1        220    613             0   \n",
       "4    13626           23   27           2        220    613             0   \n",
       "\n",
       "   gender_ohe_2       vpf  boxcox_views  \n",
       "0             1  5.555556    168.372581  \n",
       "1             0  2.163636    133.172693  \n",
       "2             1  0.766667     41.893979  \n",
       "3             1  2.786364    119.734310  \n",
       "4             1  2.786364    119.734310  "
      ]
     },
     "execution_count": 967,
     "metadata": {},
     "output_type": "execute_result"
    }
   ],
   "source": [
    "data_train.head()"
   ]
  },
  {
   "cell_type": "markdown",
   "id": "bd3db67d",
   "metadata": {},
   "source": [
    "#### Autoencoder for feature engineering"
   ]
  },
  {
   "cell_type": "code",
   "execution_count": 750,
   "id": "dfa6db75",
   "metadata": {},
   "outputs": [
    {
     "name": "stdout",
     "output_type": "stream",
     "text": [
      "Epoch 1/10\n",
      "2440/2440 [==============================] - 7s 3ms/step - loss: 12.8847\n",
      "Epoch 2/10\n",
      "2440/2440 [==============================] - 6s 3ms/step - loss: 12.7683\n",
      "Epoch 3/10\n",
      "2440/2440 [==============================] - 6s 3ms/step - loss: 12.6312\n",
      "Epoch 4/10\n",
      "2440/2440 [==============================] - 6s 3ms/step - loss: 12.4831\n",
      "Epoch 5/10\n",
      "2440/2440 [==============================] - 6s 3ms/step - loss: 12.3209\n",
      "Epoch 6/10\n",
      "2440/2440 [==============================] - 6s 3ms/step - loss: 12.1456\n",
      "Epoch 7/10\n",
      "2440/2440 [==============================] - 6s 3ms/step - loss: 11.9556\n",
      "Epoch 8/10\n",
      "2440/2440 [==============================] - 6s 3ms/step - loss: 11.7530\n",
      "Epoch 9/10\n",
      "2440/2440 [==============================] - 7s 3ms/step - loss: 11.5373\n",
      "Epoch 10/10\n",
      "2440/2440 [==============================] - 6s 3ms/step - loss: 11.3145\n",
      "[[-0.00548545  0.00137256  0.00050612]\n",
      " [-0.00548545  0.00137256  0.00050612]\n",
      " [-0.00548545  0.00137256  0.00050612]\n",
      " [-0.00548545  0.00137256  0.00050612]\n",
      " [-0.00548545  0.00137256  0.00050612]]\n"
     ]
    }
   ],
   "source": [
    "# Input information\n",
    "col_num = data_train.shape[1]\n",
    "input_dim = Input(shape=(col_num,))\n",
    "\n",
    "# Encoding information\n",
    "encoding_dim = 2\n",
    "encoded = Dense(encoding_dim, activation='relu')(input_dim)\n",
    "e = BatchNormalization()(encoded)\n",
    "e = LeakyReLU()(e)\n",
    "\n",
    "n_bottleneck = 3\n",
    "bottleneck = Dense(n_bottleneck)(e)\n",
    "\n",
    "# Decoding information\n",
    "decoded = Dense(col_num, activation='linear')(bottleneck)\n",
    "d = BatchNormalization()(decoded)\n",
    "d = LeakyReLU()(d)\n",
    "output = Dense(col_num, activation='linear')(d)\n",
    "\n",
    "# Autoencoder information (encoder + decoder)\n",
    "autoencoder = Model(inputs=input_dim, outputs=output)\n",
    "\n",
    "# Train the autoencoder\n",
    "autoencoder.compile(optimizer='adadelta', loss='mean_squared_error')\n",
    "autoencoder.fit(data_train, label_train, epochs=10, batch_size=32, shuffle=True)\n",
    "\n",
    "# Encoder information for feature extraction\n",
    "encoder = Model(inputs=input_dim, outputs=bottleneck)\n",
    "encoded_input = Input(shape=(encoding_dim,))\n",
    "\n",
    "encoded_output_train = encoder.predict(data_train)\n",
    "encoded_output_test  = encoder.predict(data_test)"
   ]
  },
  {
   "cell_type": "code",
   "execution_count": 754,
   "id": "d323420b",
   "metadata": {},
   "outputs": [],
   "source": [
    "data_test[['ae_1','ae_2','ae_3']] = encoded_output_test\n",
    "data_train[['ae_1','ae_2','ae_3']] = encoded_output_train"
   ]
  },
  {
   "cell_type": "markdown",
   "id": "22bfe46f",
   "metadata": {},
   "source": [
    "- Adding autoencoded features were tried out, but the performance of the model did not increase, hence not considering for final submission"
   ]
  },
  {
   "cell_type": "markdown",
   "id": "3175ec83",
   "metadata": {},
   "source": [
    "### Train_test_Split"
   ]
  },
  {
   "cell_type": "markdown",
   "id": "1bab8a9b",
   "metadata": {},
   "source": [
    "Dataset is split into  train and test. The splitting is done in such a way to obtain the number of test observatins almost same as the provided Test set"
   ]
  },
  {
   "cell_type": "code",
   "execution_count": 968,
   "id": "2d768b03",
   "metadata": {},
   "outputs": [
    {
     "data": {
      "text/plain": [
       "((78074, 10), (11123, 10), (78074,), (11123,))"
      ]
     },
     "execution_count": 968,
     "metadata": {},
     "output_type": "execute_result"
    }
   ],
   "source": [
    "X_train,X_test, Y_train, Y_test = train_test_split(data_train, label_train,stratify=label_train,\n",
    "                                                random_state=10, test_size=0.1247)\n",
    "\n",
    "X_train.shape,X_test.shape,Y_train.shape,Y_test.shape"
   ]
  },
  {
   "cell_type": "markdown",
   "id": "d5add6a7",
   "metadata": {},
   "source": [
    "# Machine Learning Models"
   ]
  },
  {
   "cell_type": "code",
   "execution_count": 969,
   "id": "f3ca3c37",
   "metadata": {},
   "outputs": [],
   "source": [
    "## standardizing data for neural network model\n",
    "\n",
    "from sklearn.preprocessing import StandardScaler\n",
    "sc = StandardScaler()\n",
    "sc.fit(X_train)\n",
    "\n",
    "X_train_std = sc.transform(X_train)\n",
    "X_test_std = sc.transform(X_test)\n",
    "\n",
    "X_train_std = pd.DataFrame(X_train_std,columns=X_train.columns)\n",
    "X_test_std = pd.DataFrame(X_test_std,columns=X_test.columns)\n"
   ]
  },
  {
   "cell_type": "markdown",
   "id": "6d4982f9",
   "metadata": {},
   "source": [
    "#### GradientBoost Regressor"
   ]
  },
  {
   "cell_type": "code",
   "execution_count": 224,
   "id": "26a80a22",
   "metadata": {},
   "outputs": [],
   "source": [
    "clf = GradientBoostingRegressor(n_estimators=1000,max_depth=10,criterion='mse')\n",
    "clf.fit(X_train, Y_train)\n",
    "\n",
    "y_pred = clf.predict(X_test)"
   ]
  },
  {
   "cell_type": "code",
   "execution_count": 225,
   "id": "272e75e9",
   "metadata": {},
   "outputs": [
    {
     "data": {
      "text/plain": [
       "0.43032897683921534"
      ]
     },
     "execution_count": 225,
     "metadata": {},
     "output_type": "execute_result"
    }
   ],
   "source": [
    "r2_score(Y_test,y_pred)"
   ]
  },
  {
   "cell_type": "markdown",
   "id": "825e3b81",
   "metadata": {},
   "source": [
    "#### XGBRegressor"
   ]
  },
  {
   "cell_type": "code",
   "execution_count": 16,
   "id": "9296dbc8",
   "metadata": {},
   "outputs": [],
   "source": [
    "## making a scoring function\n",
    "\n",
    "def R2(y_true,y_pred):    \n",
    "    r2 = r2_score(y_true, y_pred)\n",
    "    return r2\n",
    "def r2_scorer():\n",
    "    return make_scorer(R2, greater_is_better=True) "
   ]
  },
  {
   "cell_type": "code",
   "execution_count": 526,
   "id": "b3cbb53c",
   "metadata": {
    "scrolled": true
   },
   "outputs": [
    {
     "data": {
      "text/plain": [
       "GridSearchCV(cv=3,\n",
       "             estimator=XGBRegressor(base_score=None, booster=None,\n",
       "                                    colsample_bylevel=None,\n",
       "                                    colsample_bynode=None,\n",
       "                                    colsample_bytree=None, gamma=None,\n",
       "                                    gpu_id=None, importance_type='gain',\n",
       "                                    interaction_constraints=None,\n",
       "                                    learning_rate=None, max_delta_step=None,\n",
       "                                    max_depth=None, min_child_weight=None,\n",
       "                                    missing=nan, monotone_constraints=None,\n",
       "                                    n_estimators=100, n_jobs=...\n",
       "                                    reg_alpha=None, reg_lambda=None,\n",
       "                                    scale_pos_weight=None, subsample=None,\n",
       "                                    tree_method=None, validate_parameters=None,\n",
       "                                    verbosity=None),\n",
       "             n_jobs=-1,\n",
       "             param_grid={'colsample_bytree': [0.5, 1],\n",
       "                         'learning_rate': [0.01, 0.05, 0.1, 0.5],\n",
       "                         'max_depth': range(3, 10, 2),\n",
       "                         'min_child_weight': range(1, 6, 2),\n",
       "                         'n_estimators': [50, 100, 200, 300, 500],\n",
       "                         'subsample': [0.3, 0.5, 1]},\n",
       "             scoring=make_scorer(R2))"
      ]
     },
     "execution_count": 526,
     "metadata": {},
     "output_type": "execute_result"
    }
   ],
   "source": [
    "\n",
    "model = XGBRegressor()\n",
    "paramgrid = {\n",
    " 'n_estimators':[1000,200,3000],\n",
    " 'gamma': np.uniform ('gamma', 1,9),\n",
    " 'max_depth':range(3,10,2),\n",
    " 'min_child_weight':range(1,6,2),\n",
    " 'learning_rate':[0.05,0.1,0.15,1]   \n",
    "}\n",
    "grid = GridSearchCV(estimator=model, param_grid=paramgrid, scoring=r2_scorer(),n_jobs=-1,cv=3)\n",
    "grid.fit(data_train_std,label_train)\n",
    "grid.best_params_"
   ]
  },
  {
   "cell_type": "code",
   "execution_count": 975,
   "id": "9a0963db",
   "metadata": {},
   "outputs": [
    {
     "data": {
      "text/plain": [
       "array([4.1024537, 3.7903972, 2.4431634, ..., 3.068611 , 3.7427516,\n",
       "       2.85174  ], dtype=float32)"
      ]
     },
     "execution_count": 975,
     "metadata": {},
     "output_type": "execute_result"
    }
   ],
   "source": [
    "clf = XGBRegressor(n_estimators=2160,max_depth=7,min_child_weight=1,subsample=1,colsample_bytree=1,\n",
    "                   learning_rate=0.18)\n",
    "clf.fit(X_train,Y_train)\n",
    "\n",
    "y_pred = clf.predict(X_test)\n",
    "y_pred"
   ]
  },
  {
   "cell_type": "code",
   "execution_count": 974,
   "id": "f2514151",
   "metadata": {},
   "outputs": [
    {
     "data": {
      "text/plain": [
       "0.4747392476411997"
      ]
     },
     "execution_count": 974,
     "metadata": {},
     "output_type": "execute_result"
    }
   ],
   "source": [
    "r2_score(Y_test,y_pred)"
   ]
  },
  {
   "cell_type": "markdown",
   "id": "9cc6fce5",
   "metadata": {},
   "source": [
    "#### XGBRegressor hyperparamter tuning with optuna"
   ]
  },
  {
   "cell_type": "code",
   "execution_count": 127,
   "id": "3dc87243",
   "metadata": {},
   "outputs": [],
   "source": [
    "def objective(trial,data=data_train,target=label_train):\n",
    "    \n",
    "    train_x, test_x, train_y, test_y = train_test_split(data, target, test_size=0.1247,random_state=42) \n",
    "    param = {\n",
    "        \n",
    "        'tree_method':'gpu_hist',  # this parameter means using the GPU when training our model to speedup the training process\n",
    "        'lambda': trial.suggest_loguniform('lambda', 1e-3, 10.0),\n",
    "        'alpha': trial.suggest_loguniform('alpha', 1e-3, 10.0),\n",
    "        'colsample_bytree': trial.suggest_categorical('colsample_bytree', [0.3,0.6,0.8, 1.0]),\n",
    "        'subsample': trial.suggest_categorical('subsample', [0.4,0.8,1.0]),\n",
    "        'learning_rate': trial.suggest_categorical('learning_rate', [0.008,0.009,0.018, 0.18]),\n",
    "        'n_estimators': 2000,\n",
    "        'max_depth': trial.suggest_categorical('max_depth', [5,7,9,11,13,15]),\n",
    "        'random_state': trial.suggest_categorical('random_state', [24, 48,2020]),\n",
    "        'min_child_weight': trial.suggest_int('min_child_weight', 1, 300),\n",
    "    }\n",
    "    \n",
    "    model = XGBRegressor(**param)      \n",
    "    model.fit(train_x,train_y)    \n",
    "    preds = model.predict(test_x)    \n",
    "    r2 = r2_score(test_y, preds)\n",
    "    \n",
    "    return r2"
   ]
  },
  {
   "cell_type": "code",
   "execution_count": 128,
   "id": "c2fd0e4c",
   "metadata": {
    "scrolled": true
   },
   "outputs": [
    {
     "name": "stderr",
     "output_type": "stream",
     "text": [
      "\u001b[32m[I 2022-02-13 09:51:21,047]\u001b[0m A new study created in memory with name: no-name-1da06678-aace-4aae-9f48-260b64da5781\u001b[0m\n",
      "\u001b[32m[I 2022-02-13 09:51:36,250]\u001b[0m Trial 0 finished with value: 0.36681498820474157 and parameters: {'lambda': 6.719851745091477, 'alpha': 0.0018382401484771304, 'colsample_bytree': 0.3, 'subsample': 0.8, 'learning_rate': 0.18, 'max_depth': 7, 'random_state': 48, 'min_child_weight': 28}. Best is trial 0 with value: 0.36681498820474157.\u001b[0m\n",
      "\u001b[32m[I 2022-02-13 09:52:21,236]\u001b[0m Trial 1 finished with value: 0.3784747207625264 and parameters: {'lambda': 1.4459952306459136, 'alpha': 0.016958455882349205, 'colsample_bytree': 0.3, 'subsample': 0.8, 'learning_rate': 0.008, 'max_depth': 13, 'random_state': 48, 'min_child_weight': 38}. Best is trial 1 with value: 0.3784747207625264.\u001b[0m\n",
      "\u001b[32m[I 2022-02-13 09:52:36,130]\u001b[0m Trial 2 finished with value: 0.36729550488733975 and parameters: {'lambda': 0.0038531097888218975, 'alpha': 0.007547452487319791, 'colsample_bytree': 0.3, 'subsample': 0.8, 'learning_rate': 0.18, 'max_depth': 7, 'random_state': 2020, 'min_child_weight': 36}. Best is trial 1 with value: 0.3784747207625264.\u001b[0m\n",
      "\u001b[32m[I 2022-02-13 09:53:22,500]\u001b[0m Trial 3 finished with value: 0.335648998829273 and parameters: {'lambda': 0.0033885026533492487, 'alpha': 0.27318650134145406, 'colsample_bytree': 0.6, 'subsample': 0.8, 'learning_rate': 0.18, 'max_depth': 11, 'random_state': 24, 'min_child_weight': 75}. Best is trial 1 with value: 0.3784747207625264.\u001b[0m\n",
      "\u001b[32m[I 2022-02-13 09:53:41,256]\u001b[0m Trial 4 finished with value: 0.3750449088719816 and parameters: {'lambda': 1.5928916506174136, 'alpha': 0.004534247470623419, 'colsample_bytree': 1.0, 'subsample': 0.4, 'learning_rate': 0.018, 'max_depth': 9, 'random_state': 48, 'min_child_weight': 170}. Best is trial 1 with value: 0.3784747207625264.\u001b[0m\n",
      "\u001b[32m[I 2022-02-13 09:53:55,296]\u001b[0m Trial 5 finished with value: 0.37603556639701174 and parameters: {'lambda': 0.031602651521003944, 'alpha': 0.08921439810671913, 'colsample_bytree': 0.3, 'subsample': 0.8, 'learning_rate': 0.018, 'max_depth': 7, 'random_state': 24, 'min_child_weight': 57}. Best is trial 1 with value: 0.3784747207625264.\u001b[0m\n",
      "\u001b[32m[I 2022-02-13 09:54:08,171]\u001b[0m Trial 6 finished with value: 0.37400578822549024 and parameters: {'lambda': 0.03598736185381686, 'alpha': 2.440843971561966, 'colsample_bytree': 0.8, 'subsample': 1.0, 'learning_rate': 0.018, 'max_depth': 7, 'random_state': 48, 'min_child_weight': 235}. Best is trial 1 with value: 0.3784747207625264.\u001b[0m\n",
      "\u001b[32m[I 2022-02-13 09:54:21,987]\u001b[0m Trial 7 finished with value: 0.37073635652305925 and parameters: {'lambda': 0.07682366080412244, 'alpha': 0.010735825028390253, 'colsample_bytree': 1.0, 'subsample': 1.0, 'learning_rate': 0.009, 'max_depth': 7, 'random_state': 48, 'min_child_weight': 261}. Best is trial 1 with value: 0.3784747207625264.\u001b[0m\n",
      "\u001b[32m[I 2022-02-13 09:54:29,222]\u001b[0m Trial 8 finished with value: 0.36720492637054647 and parameters: {'lambda': 0.011033332642657132, 'alpha': 0.0013473952761354636, 'colsample_bytree': 1.0, 'subsample': 0.4, 'learning_rate': 0.008, 'max_depth': 5, 'random_state': 48, 'min_child_weight': 204}. Best is trial 1 with value: 0.3784747207625264.\u001b[0m\n",
      "\u001b[32m[I 2022-02-13 09:55:27,408]\u001b[0m Trial 9 finished with value: 0.37775731051003947 and parameters: {'lambda': 0.020682965169198757, 'alpha': 0.22735601764697605, 'colsample_bytree': 1.0, 'subsample': 0.4, 'learning_rate': 0.009, 'max_depth': 15, 'random_state': 2020, 'min_child_weight': 79}. Best is trial 1 with value: 0.3784747207625264.\u001b[0m\n",
      "\u001b[32m[I 2022-02-13 09:56:10,682]\u001b[0m Trial 10 finished with value: 0.38006150817659734 and parameters: {'lambda': 0.5944345257441187, 'alpha': 0.03644018837189283, 'colsample_bytree': 0.6, 'subsample': 0.8, 'learning_rate': 0.008, 'max_depth': 13, 'random_state': 24, 'min_child_weight': 125}. Best is trial 10 with value: 0.38006150817659734.\u001b[0m\n",
      "\u001b[32m[I 2022-02-13 09:56:51,474]\u001b[0m Trial 11 finished with value: 0.3792964805487844 and parameters: {'lambda': 0.6852622047091407, 'alpha': 0.042879578443202566, 'colsample_bytree': 0.6, 'subsample': 0.8, 'learning_rate': 0.008, 'max_depth': 13, 'random_state': 24, 'min_child_weight': 141}. Best is trial 10 with value: 0.38006150817659734.\u001b[0m\n",
      "\u001b[32m[I 2022-02-13 09:57:34,196]\u001b[0m Trial 12 finished with value: 0.37997916330919024 and parameters: {'lambda': 0.7102187828386, 'alpha': 0.052945522891661885, 'colsample_bytree': 0.6, 'subsample': 0.8, 'learning_rate': 0.008, 'max_depth': 13, 'random_state': 24, 'min_child_weight': 127}. Best is trial 10 with value: 0.38006150817659734.\u001b[0m\n",
      "\u001b[32m[I 2022-02-13 09:58:16,163]\u001b[0m Trial 13 finished with value: 0.38047782286201715 and parameters: {'lambda': 0.31109203759348647, 'alpha': 0.9945452774766941, 'colsample_bytree': 0.6, 'subsample': 0.8, 'learning_rate': 0.008, 'max_depth': 13, 'random_state': 24, 'min_child_weight': 126}. Best is trial 13 with value: 0.38047782286201715.\u001b[0m\n",
      "\u001b[32m[I 2022-02-13 09:59:01,296]\u001b[0m Trial 14 finished with value: 0.3818086238117685 and parameters: {'lambda': 0.24914199264384473, 'alpha': 4.208425163825448, 'colsample_bytree': 0.6, 'subsample': 0.8, 'learning_rate': 0.008, 'max_depth': 13, 'random_state': 24, 'min_child_weight': 105}. Best is trial 14 with value: 0.3818086238117685.\u001b[0m\n",
      "\u001b[32m[I 2022-02-13 09:59:47,735]\u001b[0m Trial 15 finished with value: 0.382408249813353 and parameters: {'lambda': 0.21053930850286007, 'alpha': 6.078687646623284, 'colsample_bytree': 0.6, 'subsample': 1.0, 'learning_rate': 0.008, 'max_depth': 13, 'random_state': 24, 'min_child_weight': 102}. Best is trial 15 with value: 0.382408249813353.\u001b[0m\n",
      "\u001b[32m[I 2022-02-13 09:59:57,639]\u001b[0m Trial 16 finished with value: 0.3678490705464377 and parameters: {'lambda': 0.1442197429439217, 'alpha': 9.888703654852806, 'colsample_bytree': 0.8, 'subsample': 1.0, 'learning_rate': 0.008, 'max_depth': 5, 'random_state': 24, 'min_child_weight': 95}. Best is trial 15 with value: 0.382408249813353.\u001b[0m\n",
      "\u001b[32m[I 2022-02-13 10:00:38,177]\u001b[0m Trial 17 finished with value: 0.37924016665943716 and parameters: {'lambda': 6.6572610255110565, 'alpha': 8.438941329776792, 'colsample_bytree': 0.6, 'subsample': 1.0, 'learning_rate': 0.008, 'max_depth': 15, 'random_state': 24, 'min_child_weight': 176}. Best is trial 15 with value: 0.382408249813353.\u001b[0m\n",
      "\u001b[32m[I 2022-02-13 10:01:19,872]\u001b[0m Trial 18 finished with value: 0.38862583660621974 and parameters: {'lambda': 0.14903627517011658, 'alpha': 2.2058178232025045, 'colsample_bytree': 0.6, 'subsample': 1.0, 'learning_rate': 0.009, 'max_depth': 9, 'random_state': 2020, 'min_child_weight': 9}. Best is trial 18 with value: 0.38862583660621974.\u001b[0m\n",
      "\u001b[32m[I 2022-02-13 10:02:03,749]\u001b[0m Trial 19 finished with value: 0.38914171524216423 and parameters: {'lambda': 0.10440191066514967, 'alpha': 1.0110244296056388, 'colsample_bytree': 0.6, 'subsample': 1.0, 'learning_rate': 0.009, 'max_depth': 9, 'random_state': 2020, 'min_child_weight': 9}. Best is trial 19 with value: 0.38914171524216423.\u001b[0m\n",
      "\u001b[32m[I 2022-02-13 10:02:56,627]\u001b[0m Trial 20 finished with value: 0.3917430369987721 and parameters: {'lambda': 0.0014022793183038952, 'alpha': 1.1662956007703376, 'colsample_bytree': 0.8, 'subsample': 1.0, 'learning_rate': 0.009, 'max_depth': 9, 'random_state': 2020, 'min_child_weight': 2}. Best is trial 20 with value: 0.3917430369987721.\u001b[0m\n",
      "\u001b[32m[I 2022-02-13 10:03:52,267]\u001b[0m Trial 21 finished with value: 0.3937101009621501 and parameters: {'lambda': 0.08487152971836719, 'alpha': 0.971593297608301, 'colsample_bytree': 0.8, 'subsample': 1.0, 'learning_rate': 0.009, 'max_depth': 9, 'random_state': 2020, 'min_child_weight': 1}. Best is trial 21 with value: 0.3937101009621501.\u001b[0m\n",
      "\u001b[32m[I 2022-02-13 10:04:40,587]\u001b[0m Trial 22 finished with value: 0.39149718668957956 and parameters: {'lambda': 0.0011796578350743037, 'alpha': 0.6175955649067175, 'colsample_bytree': 0.8, 'subsample': 1.0, 'learning_rate': 0.009, 'max_depth': 9, 'random_state': 2020, 'min_child_weight': 6}. Best is trial 21 with value: 0.3937101009621501.\u001b[0m\n",
      "\u001b[32m[I 2022-02-13 10:05:27,579]\u001b[0m Trial 23 finished with value: 0.3908133801604968 and parameters: {'lambda': 0.0012915448867283244, 'alpha': 0.4262346419997592, 'colsample_bytree': 0.8, 'subsample': 1.0, 'learning_rate': 0.009, 'max_depth': 9, 'random_state': 2020, 'min_child_weight': 8}. Best is trial 21 with value: 0.3937101009621501.\u001b[0m\n"
     ]
    },
    {
     "name": "stderr",
     "output_type": "stream",
     "text": [
      "\u001b[32m[I 2022-02-13 10:05:59,266]\u001b[0m Trial 24 finished with value: 0.3821337745301865 and parameters: {'lambda': 0.0010219843935291237, 'alpha': 0.7465164436435526, 'colsample_bytree': 0.8, 'subsample': 1.0, 'learning_rate': 0.009, 'max_depth': 9, 'random_state': 2020, 'min_child_weight': 50}. Best is trial 21 with value: 0.3937101009621501.\u001b[0m\n",
      "\u001b[32m[I 2022-02-13 10:06:58,468]\u001b[0m Trial 25 finished with value: 0.3947705716841249 and parameters: {'lambda': 0.0037353962914378302, 'alpha': 0.16431103416045803, 'colsample_bytree': 0.8, 'subsample': 1.0, 'learning_rate': 0.009, 'max_depth': 9, 'random_state': 2020, 'min_child_weight': 2}. Best is trial 25 with value: 0.3947705716841249.\u001b[0m\n",
      "\u001b[32m[I 2022-02-13 10:07:29,823]\u001b[0m Trial 26 finished with value: 0.3814612135050881 and parameters: {'lambda': 0.0052127299818409455, 'alpha': 0.17762188267775134, 'colsample_bytree': 0.8, 'subsample': 1.0, 'learning_rate': 0.009, 'max_depth': 9, 'random_state': 2020, 'min_child_weight': 64}. Best is trial 25 with value: 0.3947705716841249.\u001b[0m\n",
      "\u001b[32m[I 2022-02-13 10:07:52,969]\u001b[0m Trial 27 finished with value: 0.3741795767734458 and parameters: {'lambda': 0.008552845018977209, 'alpha': 1.924578068736199, 'colsample_bytree': 0.8, 'subsample': 1.0, 'learning_rate': 0.009, 'max_depth': 11, 'random_state': 2020, 'min_child_weight': 292}. Best is trial 25 with value: 0.3947705716841249.\u001b[0m\n",
      "\u001b[32m[I 2022-02-13 10:08:28,673]\u001b[0m Trial 28 finished with value: 0.3848579462463043 and parameters: {'lambda': 0.0025440578167755705, 'alpha': 0.15272746713999594, 'colsample_bytree': 0.8, 'subsample': 1.0, 'learning_rate': 0.009, 'max_depth': 9, 'random_state': 2020, 'min_child_weight': 30}. Best is trial 25 with value: 0.3947705716841249.\u001b[0m\n",
      "\u001b[32m[I 2022-02-13 10:09:32,012]\u001b[0m Trial 29 finished with value: 0.24131241942875137 and parameters: {'lambda': 0.0020064153328748823, 'alpha': 0.38080564668666644, 'colsample_bytree': 0.8, 'subsample': 0.4, 'learning_rate': 0.18, 'max_depth': 9, 'random_state': 2020, 'min_child_weight': 1}. Best is trial 25 with value: 0.3947705716841249.\u001b[0m\n",
      "\u001b[32m[I 2022-02-13 10:10:09,912]\u001b[0m Trial 30 finished with value: 0.3864585605373142 and parameters: {'lambda': 0.009614043355739342, 'alpha': 0.10612446624466071, 'colsample_bytree': 0.8, 'subsample': 1.0, 'learning_rate': 0.009, 'max_depth': 9, 'random_state': 2020, 'min_child_weight': 24}. Best is trial 25 with value: 0.3947705716841249.\u001b[0m\n",
      "\u001b[32m[I 2022-02-13 10:10:48,746]\u001b[0m Trial 31 finished with value: 0.38596341909955045 and parameters: {'lambda': 0.0016676554566988106, 'alpha': 0.5853015393879168, 'colsample_bytree': 0.8, 'subsample': 1.0, 'learning_rate': 0.009, 'max_depth': 9, 'random_state': 2020, 'min_child_weight': 20}. Best is trial 25 with value: 0.3947705716841249.\u001b[0m\n",
      "\u001b[32m[I 2022-02-13 10:11:21,070]\u001b[0m Trial 32 finished with value: 0.3837423700330418 and parameters: {'lambda': 0.006655381095962187, 'alpha': 1.5813863138389594, 'colsample_bytree': 0.8, 'subsample': 1.0, 'learning_rate': 0.009, 'max_depth': 9, 'random_state': 2020, 'min_child_weight': 41}. Best is trial 25 with value: 0.3947705716841249.\u001b[0m\n",
      "\u001b[32m[I 2022-02-13 10:11:58,242]\u001b[0m Trial 33 finished with value: 0.3854208052748821 and parameters: {'lambda': 0.01763485237292463, 'alpha': 3.2703964700218955, 'colsample_bytree': 0.8, 'subsample': 1.0, 'learning_rate': 0.009, 'max_depth': 9, 'random_state': 2020, 'min_child_weight': 25}. Best is trial 25 with value: 0.3947705716841249.\u001b[0m\n",
      "\u001b[32m[I 2022-02-13 10:12:33,703]\u001b[0m Trial 34 finished with value: 0.3768033442327987 and parameters: {'lambda': 0.004292659964916768, 'alpha': 0.3649225977496872, 'colsample_bytree': 0.3, 'subsample': 1.0, 'learning_rate': 0.009, 'max_depth': 11, 'random_state': 2020, 'min_child_weight': 44}. Best is trial 25 with value: 0.3947705716841249.\u001b[0m\n",
      "\u001b[32m[I 2022-02-13 10:13:33,165]\u001b[0m Trial 35 finished with value: 0.3432519782981419 and parameters: {'lambda': 0.002949698578952452, 'alpha': 1.0478272836960165, 'colsample_bytree': 0.8, 'subsample': 1.0, 'learning_rate': 0.18, 'max_depth': 9, 'random_state': 2020, 'min_child_weight': 2}. Best is trial 25 with value: 0.3947705716841249.\u001b[0m\n",
      "\u001b[32m[I 2022-02-13 10:14:47,257]\u001b[0m Trial 36 finished with value: 0.38676320993746793 and parameters: {'lambda': 0.0016987036186431243, 'alpha': 0.022179945602847227, 'colsample_bytree': 0.8, 'subsample': 1.0, 'learning_rate': 0.009, 'max_depth': 15, 'random_state': 2020, 'min_child_weight': 67}. Best is trial 25 with value: 0.3947705716841249.\u001b[0m\n",
      "\u001b[32m[I 2022-02-13 10:14:54,788]\u001b[0m Trial 37 finished with value: 0.37167633800573063 and parameters: {'lambda': 0.0011650675093551892, 'alpha': 0.09202921856592072, 'colsample_bytree': 0.3, 'subsample': 0.4, 'learning_rate': 0.018, 'max_depth': 5, 'random_state': 2020, 'min_child_weight': 36}. Best is trial 25 with value: 0.3947705716841249.\u001b[0m\n",
      "\u001b[32m[I 2022-02-13 10:15:22,978]\u001b[0m Trial 38 finished with value: 0.37989600843124294 and parameters: {'lambda': 0.048847259573113984, 'alpha': 0.0032819098160898905, 'colsample_bytree': 0.8, 'subsample': 1.0, 'learning_rate': 0.009, 'max_depth': 9, 'random_state': 48, 'min_child_weight': 86}. Best is trial 25 with value: 0.3947705716841249.\u001b[0m\n",
      "\u001b[32m[I 2022-02-13 10:15:52,587]\u001b[0m Trial 39 finished with value: 0.34751118166811135 and parameters: {'lambda': 0.004155113733406661, 'alpha': 0.6320820062631286, 'colsample_bytree': 0.8, 'subsample': 1.0, 'learning_rate': 0.18, 'max_depth': 9, 'random_state': 2020, 'min_child_weight': 57}. Best is trial 25 with value: 0.3947705716841249.\u001b[0m\n",
      "\u001b[32m[I 2022-02-13 10:16:09,887]\u001b[0m Trial 40 finished with value: 0.3795513949748063 and parameters: {'lambda': 4.0444938949172204, 'alpha': 0.21332538345047578, 'colsample_bytree': 1.0, 'subsample': 0.4, 'learning_rate': 0.018, 'max_depth': 7, 'random_state': 2020, 'min_child_weight': 24}. Best is trial 25 with value: 0.3947705716841249.\u001b[0m\n",
      "\u001b[32m[I 2022-02-13 10:16:53,290]\u001b[0m Trial 41 finished with value: 0.38919348975490176 and parameters: {'lambda': 0.0010881671833299516, 'alpha': 0.4122545321413794, 'colsample_bytree': 0.8, 'subsample': 1.0, 'learning_rate': 0.009, 'max_depth': 9, 'random_state': 2020, 'min_child_weight': 11}. Best is trial 25 with value: 0.3947705716841249.\u001b[0m\n",
      "\u001b[32m[I 2022-02-13 10:17:33,468]\u001b[0m Trial 42 finished with value: 0.3872585360422799 and parameters: {'lambda': 0.0020232136295087215, 'alpha': 1.572743142506293, 'colsample_bytree': 0.8, 'subsample': 1.0, 'learning_rate': 0.009, 'max_depth': 9, 'random_state': 2020, 'min_child_weight': 17}. Best is trial 25 with value: 0.3947705716841249.\u001b[0m\n",
      "\u001b[32m[I 2022-02-13 10:18:07,369]\u001b[0m Trial 43 finished with value: 0.38304250175136645 and parameters: {'lambda': 0.015749250960376115, 'alpha': 0.3125286761474771, 'colsample_bytree': 0.8, 'subsample': 1.0, 'learning_rate': 0.009, 'max_depth': 9, 'random_state': 48, 'min_child_weight': 41}. Best is trial 25 with value: 0.3947705716841249.\u001b[0m\n",
      "\u001b[32m[I 2022-02-13 10:20:12,463]\u001b[0m Trial 44 finished with value: 0.40630286560575557 and parameters: {'lambda': 0.002831813346179823, 'alpha': 0.4976268582562364, 'colsample_bytree': 0.8, 'subsample': 1.0, 'learning_rate': 0.009, 'max_depth': 11, 'random_state': 2020, 'min_child_weight': 2}. Best is trial 44 with value: 0.40630286560575557.\u001b[0m\n",
      "\u001b[32m[I 2022-02-13 10:22:19,712]\u001b[0m Trial 45 finished with value: 0.40690806908813737 and parameters: {'lambda': 0.0030497060993055158, 'alpha': 0.6467201637794217, 'colsample_bytree': 0.8, 'subsample': 1.0, 'learning_rate': 0.009, 'max_depth': 11, 'random_state': 2020, 'min_child_weight': 1}. Best is trial 45 with value: 0.40690806908813737.\u001b[0m\n",
      "\u001b[32m[I 2022-02-13 10:22:57,963]\u001b[0m Trial 46 finished with value: 0.37796157960475707 and parameters: {'lambda': 0.005989013191999631, 'alpha': 0.1441478495443807, 'colsample_bytree': 0.3, 'subsample': 1.0, 'learning_rate': 0.009, 'max_depth': 11, 'random_state': 2020, 'min_child_weight': 33}. Best is trial 45 with value: 0.40690806908813737.\u001b[0m\n",
      "\u001b[32m[I 2022-02-13 10:23:37,964]\u001b[0m Trial 47 finished with value: 0.38377070681061143 and parameters: {'lambda': 0.0029989936214036995, 'alpha': 0.06530273474180052, 'colsample_bytree': 1.0, 'subsample': 1.0, 'learning_rate': 0.018, 'max_depth': 11, 'random_state': 48, 'min_child_weight': 52}. Best is trial 45 with value: 0.40690806908813737.\u001b[0m\n"
     ]
    },
    {
     "name": "stderr",
     "output_type": "stream",
     "text": [
      "\u001b[32m[I 2022-02-13 10:24:01,803]\u001b[0m Trial 48 finished with value: 0.3755574795850396 and parameters: {'lambda': 0.03442386110267787, 'alpha': 1.3363168089114326, 'colsample_bytree': 0.8, 'subsample': 0.4, 'learning_rate': 0.009, 'max_depth': 11, 'random_state': 2020, 'min_child_weight': 170}. Best is trial 45 with value: 0.40690806908813737.\u001b[0m\n",
      "\u001b[32m[I 2022-02-13 10:24:40,748]\u001b[0m Trial 49 finished with value: 0.34456859745438606 and parameters: {'lambda': 1.924072606326609, 'alpha': 3.1259352543358734, 'colsample_bytree': 0.8, 'subsample': 0.8, 'learning_rate': 0.18, 'max_depth': 11, 'random_state': 2020, 'min_child_weight': 193}. Best is trial 45 with value: 0.40690806908813737.\u001b[0m\n"
     ]
    },
    {
     "name": "stdout",
     "output_type": "stream",
     "text": [
      "Number of finished trials: 50\n",
      "Best trial: {'lambda': 0.0030497060993055158, 'alpha': 0.6467201637794217, 'colsample_bytree': 0.8, 'subsample': 1.0, 'learning_rate': 0.009, 'max_depth': 11, 'random_state': 2020, 'min_child_weight': 1}\n"
     ]
    }
   ],
   "source": [
    "study = optuna.create_study(direction='maximize')\n",
    "study.optimize(objective, n_trials=50)\n",
    "print('Number of finished trials:', len(study.trials))\n",
    "print('Best trial:', study.best_trial.params)"
   ]
  },
  {
   "cell_type": "markdown",
   "id": "33f59fb0",
   "metadata": {},
   "source": [
    "#### LightGBM Regressor"
   ]
  },
  {
   "cell_type": "code",
   "execution_count": 849,
   "id": "ad334758",
   "metadata": {},
   "outputs": [
    {
     "name": "stdout",
     "output_type": "stream",
     "text": [
      "[LightGBM] [Warning] feature_fraction is set=0.2319, colsample_bytree=1.0 will be ignored. Current value: feature_fraction=0.2319\n",
      "[LightGBM] [Warning] min_data_in_leaf is set=6, min_child_samples=20 will be ignored. Current value: min_data_in_leaf=6\n",
      "[LightGBM] [Warning] min_sum_hessian_in_leaf is set=11, min_child_weight=0.001 will be ignored. Current value: min_sum_hessian_in_leaf=11\n",
      "[LightGBM] [Warning] bagging_fraction is set=0.8, subsample=1.0 will be ignored. Current value: bagging_fraction=0.8\n",
      "[LightGBM] [Warning] bagging_freq is set=5, subsample_freq=0 will be ignored. Current value: bagging_freq=5\n"
     ]
    }
   ],
   "source": [
    "clf = LGBMRegressor(objective='regression',num_leaves=5,\n",
    "                              learning_rate=0.05, n_estimators=10000,\n",
    "                              max_bin = 55, bagging_fraction = 0.8,\n",
    "                              bagging_freq = 5, feature_fraction = 0.2319,\n",
    "                              feature_fraction_seed=9, bagging_seed=9,\n",
    "                              min_data_in_leaf =6, min_sum_hessian_in_leaf = 11)\n",
    "\n",
    "clf.fit(X_train,Y_train)\n",
    "\n",
    "y_pred = clf.predict(X_test)"
   ]
  },
  {
   "cell_type": "code",
   "execution_count": 850,
   "id": "b137a626",
   "metadata": {},
   "outputs": [
    {
     "data": {
      "text/plain": [
       "0.3510941911774087"
      ]
     },
     "execution_count": 850,
     "metadata": {},
     "output_type": "execute_result"
    }
   ],
   "source": [
    "r2_score(Y_test,y_pred)"
   ]
  },
  {
   "cell_type": "markdown",
   "id": "715e0cfe",
   "metadata": {},
   "source": [
    "#### Neural Network"
   ]
  },
  {
   "cell_type": "code",
   "execution_count": 726,
   "id": "a39df567",
   "metadata": {},
   "outputs": [],
   "source": [
    "import tensorflow as tf\n",
    "from tensorflow.keras import models, layers, Sequential, Input\n",
    "from tensorflow.keras.layers import BatchNormalization, LeakyReLU\n",
    "from tensorflow.keras.layers import Dense,Dropout,LSTM\n",
    "from tensorflow.keras.models import Model\n",
    "from keras import backend as K"
   ]
  },
  {
   "cell_type": "code",
   "execution_count": 857,
   "id": "f6a0f005",
   "metadata": {},
   "outputs": [
    {
     "name": "stdout",
     "output_type": "stream",
     "text": [
      "Model: \"sequential_26\"\n",
      "_________________________________________________________________\n",
      "Layer (type)                 Output Shape              Param #   \n",
      "=================================================================\n",
      "dense_83 (Dense)             (None, 128)               1280      \n",
      "_________________________________________________________________\n",
      "dense_84 (Dense)             (None, 512)               66048     \n",
      "_________________________________________________________________\n",
      "dense_85 (Dense)             (None, 256)               131328    \n",
      "_________________________________________________________________\n",
      "dense_86 (Dense)             (None, 128)               32896     \n",
      "_________________________________________________________________\n",
      "dense_87 (Dense)             (None, 1)                 129       \n",
      "=================================================================\n",
      "Total params: 231,681\n",
      "Trainable params: 231,681\n",
      "Non-trainable params: 0\n",
      "_________________________________________________________________\n"
     ]
    }
   ],
   "source": [
    "\n",
    "NN_model = Sequential()\n",
    "\n",
    "# The Input Layer :\n",
    "NN_model.add(Dense(128, kernel_initializer='he_normal',input_dim = X_train_std.shape[1], activation='relu'))\n",
    "\n",
    "# The Hidden Layers :\n",
    "NN_model.add(Dense(512, kernel_initializer='he_normal',activation='relu'))\n",
    "NN_model.add(Dense(256, kernel_initializer='he_normal',activation='relu'))\n",
    "NN_model.add(Dense(128, kernel_initializer='he_normal',activation='relu'))\n",
    "\n",
    "# The Output Layer :\n",
    "NN_model.add(Dense(1, kernel_initializer='he_normal',activation='linear'))\n",
    "\n",
    "# Compile the network :\n",
    "\n",
    "def coeff_determination(y_true, y_pred):\n",
    "    SS_res =  K.sum(K.square( y_true-y_pred )) \n",
    "    SS_tot = K.sum(K.square( y_true - K.mean(y_true) ) ) \n",
    "    return ( 1 - SS_res/(SS_tot + K.epsilon()) )\n",
    "\n",
    "NN_model.compile(optimizer=tf.keras.optimizers.Adam(0.001), loss='mean_squared_error', metrics=[coeff_determination])\n",
    "\n",
    "NN_model.summary()"
   ]
  },
  {
   "cell_type": "code",
   "execution_count": 860,
   "id": "8e0f1089",
   "metadata": {
    "scrolled": true
   },
   "outputs": [
    {
     "name": "stdout",
     "output_type": "stream",
     "text": [
      "Epoch 1/10\n",
      "2440/2440 [==============================] - 5s 2ms/step - loss: 0.4932 - coeff_determination: 0.3049\n",
      "Epoch 2/10\n",
      "2440/2440 [==============================] - 5s 2ms/step - loss: 0.4918 - coeff_determination: 0.3071\n",
      "Epoch 3/10\n",
      "2440/2440 [==============================] - 5s 2ms/step - loss: 0.4908 - coeff_determination: 0.3074\n",
      "Epoch 4/10\n",
      "2440/2440 [==============================] - 5s 2ms/step - loss: 0.4915 - coeff_determination: 0.3057\n",
      "Epoch 5/10\n",
      "2440/2440 [==============================] - 5s 2ms/step - loss: 0.4907 - coeff_determination: 0.3068\n",
      "Epoch 6/10\n",
      "2440/2440 [==============================] - 5s 2ms/step - loss: 0.4900 - coeff_determination: 0.3103\n",
      "Epoch 7/10\n",
      "2440/2440 [==============================] - 5s 2ms/step - loss: 0.4889 - coeff_determination: 0.3100\n",
      "Epoch 8/10\n",
      "2440/2440 [==============================] - 5s 2ms/step - loss: 0.4889 - coeff_determination: 0.3113\n",
      "Epoch 9/10\n",
      "2440/2440 [==============================] - 5s 2ms/step - loss: 0.4872 - coeff_determination: 0.3123\n",
      "Epoch 10/10\n",
      "2440/2440 [==============================] - 5s 2ms/step - loss: 0.4869 - coeff_determination: 0.3154\n"
     ]
    },
    {
     "data": {
      "text/plain": [
       "0.33575814067397425"
      ]
     },
     "execution_count": 860,
     "metadata": {},
     "output_type": "execute_result"
    }
   ],
   "source": [
    "NN_model.fit(X_train_std, Y_train, epochs=10, batch_size=32)\n",
    "y_pred = NN_model.predict(X_test_std)\n",
    "\n",
    "r2_score(Y_test,y_pred)"
   ]
  },
  {
   "cell_type": "markdown",
   "id": "43461ff2",
   "metadata": {},
   "source": [
    "#### Random Forest Regressor"
   ]
  },
  {
   "cell_type": "code",
   "execution_count": 555,
   "id": "ceec5a38",
   "metadata": {},
   "outputs": [
    {
     "data": {
      "text/plain": [
       "{'bootstrap': True,\n",
       " 'max_depth': 110,\n",
       " 'max_features': 3,\n",
       " 'min_samples_leaf': 5,\n",
       " 'min_samples_split': 12,\n",
       " 'n_estimators': 500}"
      ]
     },
     "execution_count": 555,
     "metadata": {},
     "output_type": "execute_result"
    }
   ],
   "source": [
    "## para,eter tuning using gridsearchCV\n",
    "\n",
    "model = RandomForestRegressor()\n",
    "param = {\n",
    "    'bootstrap': [True],\n",
    "    'max_depth': [80, 90, 100, 110],\n",
    "    'max_features': [2, 3],\n",
    "    'min_samples_leaf': [3, 4, 5],\n",
    "    'min_samples_split': [8, 10, 12],\n",
    "    'n_estimators': [200, 300, 500]\n",
    "}\n",
    "grid = GridSearchCV(estimator=model, param_grid=param, scoring=r2_scorer(),n_jobs=-1,cv=3)\n",
    "grid.fit(data_train,label_train)\n",
    "grid.best_params_"
   ]
  },
  {
   "cell_type": "code",
   "execution_count": 254,
   "id": "dd8666b9",
   "metadata": {},
   "outputs": [],
   "source": [
    "clf = RandomForestRegressor(n_estimators=500,min_samples_leaf=5,max_features=3,min_samples_split=12,bootstrap=True)\n",
    "clf.fit(X_train,Y_train)\n",
    "\n",
    "y_pred = clf.predict(X_test)"
   ]
  },
  {
   "cell_type": "code",
   "execution_count": 255,
   "id": "c1b9b12d",
   "metadata": {},
   "outputs": [
    {
     "data": {
      "text/plain": [
       "0.36315233106833356"
      ]
     },
     "execution_count": 255,
     "metadata": {},
     "output_type": "execute_result"
    }
   ],
   "source": [
    "r2_score(Y_test,y_pred)"
   ]
  },
  {
   "cell_type": "markdown",
   "id": "8d529789",
   "metadata": {},
   "source": [
    "#### Stacking Regressor"
   ]
  },
  {
   "cell_type": "code",
   "execution_count": 274,
   "id": "bee2cbd4",
   "metadata": {},
   "outputs": [
    {
     "data": {
      "text/plain": [
       "StackingRegressor(cv=5,\n",
       "                  estimators=[('RF',\n",
       "                               RandomForestRegressor(max_features=3,\n",
       "                                                     min_samples_leaf=5,\n",
       "                                                     min_samples_split=12,\n",
       "                                                     n_estimators=500)),\n",
       "                              ('XGB',\n",
       "                               XGBRegressor(base_score=None, booster=None,\n",
       "                                            colsample_bylevel=None,\n",
       "                                            colsample_bynode=None,\n",
       "                                            colsample_bytree=1, gamma=None,\n",
       "                                            gpu_id=None, importance_type='gain',\n",
       "                                            interaction_constraints=None,\n",
       "                                            learning_rate=0.18,\n",
       "                                            max_de...\n",
       "                                            min_child_weight=1, missing=nan,\n",
       "                                            monotone_constraints=None,\n",
       "                                            n_estimators=2000, n_jobs=None,\n",
       "                                            num_parallel_tree=None,\n",
       "                                            random_state=None, reg_alpha=None,\n",
       "                                            reg_lambda=None,\n",
       "                                            scale_pos_weight=None, subsample=1,\n",
       "                                            tree_method=None,\n",
       "                                            validate_parameters=None,\n",
       "                                            verbosity=None)),\n",
       "                              ('GBR',\n",
       "                               GradientBoostingRegressor(criterion='mse',\n",
       "                                                         max_depth=10,\n",
       "                                                         n_estimators=1000))],\n",
       "                  final_estimator=LinearRegression())"
      ]
     },
     "execution_count": 274,
     "metadata": {},
     "output_type": "execute_result"
    }
   ],
   "source": [
    "basemodels= []\n",
    "\n",
    "    # define the base models\n",
    "basemodels.append(('RF', RandomForestRegressor(n_estimators=500,min_samples_leaf=5,max_features=3,\n",
    "                                                min_samples_split=12,bootstrap=True)))\n",
    "basemodels.append(('XGB',XGBRegressor(n_estimators=2000,max_depth=7,min_child_weight=1,subsample=1,\n",
    "                                          colsample_bytree=1,learning_rate=0.18) ))\n",
    "basemodels.append(('GBR',GradientBoostingRegressor(n_estimators=1000,max_depth=10,criterion='mse') ))\n",
    "    \n",
    "    # define meta learner model\n",
    "metamodel = LinearRegression()\n",
    "    # define the stacking ensemble\n",
    "model = StackingRegressor(estimators=basemodels, final_estimator=metamodel , cv=5)\n",
    "\n",
    "model.fit(data_train,label_train)\n"
   ]
  },
  {
   "cell_type": "code",
   "execution_count": 267,
   "id": "a8bc276b",
   "metadata": {},
   "outputs": [],
   "source": [
    "y_pred = model.predict(data_test)\n",
    "r2_score(Y_test,y_pred)"
   ]
  },
  {
   "cell_type": "markdown",
   "id": "d1f14350",
   "metadata": {},
   "source": [
    "# Observations"
   ]
  },
  {
   "cell_type": "markdown",
   "id": "d5078b8e",
   "metadata": {},
   "source": [
    "- Several models were tried out like Linear regression,KNN Regressor, Random Forest regressor, Gradient boost regressor, XGBoost regressor, LighGBM regressor and a Neural Network Model.\n",
    "\n",
    "\n",
    "- Finally a staking Regressor that used some of the other top performing models aas base models, was also tried out.\n",
    "\n",
    "\n",
    "- Out of all the models, it was found that the XGBoost Regressor obtained the best R2 score on validation data and hence it will be used for making the final prediction on the entire data provided. (data_train)\n",
    "\n"
   ]
  },
  {
   "cell_type": "code",
   "execution_count": 980,
   "id": "a7c31cd5",
   "metadata": {},
   "outputs": [
    {
     "data": {
      "text/plain": [
       "array([4.082949 , 3.9255993, 2.3630624, ..., 3.0272083, 3.6878057,\n",
       "       2.8658707], dtype=float32)"
      ]
     },
     "execution_count": 980,
     "metadata": {},
     "output_type": "execute_result"
    }
   ],
   "source": [
    "clf = XGBRegressor(n_estimators=2160,max_depth=7,min_child_weight=1,subsample=1,colsample_bytree=1,\n",
    "                   learning_rate=0.18)\n",
    "clf.fit(data_train,label_train)\n",
    "\n",
    "y_pred = clf.predict(data_test)\n",
    "y_pred"
   ]
  },
  {
   "cell_type": "markdown",
   "id": "0c6d7705",
   "metadata": {},
   "source": [
    "#### Create submission file"
   ]
  },
  {
   "cell_type": "code",
   "execution_count": 981,
   "id": "08908019",
   "metadata": {},
   "outputs": [],
   "source": [
    "data_final = {'row_id':row_id,'engagement_score':y_pred}\n",
    "\n",
    "final_submission = pd.DataFrame(data_final)\n",
    "final_submission.to_csv('final_submission_xgbregressor_10.csv',index=False)"
   ]
  },
  {
   "cell_type": "code",
   "execution_count": 982,
   "id": "c598b48e",
   "metadata": {},
   "outputs": [
    {
     "data": {
      "text/html": [
       "<div>\n",
       "<style scoped>\n",
       "    .dataframe tbody tr th:only-of-type {\n",
       "        vertical-align: middle;\n",
       "    }\n",
       "\n",
       "    .dataframe tbody tr th {\n",
       "        vertical-align: top;\n",
       "    }\n",
       "\n",
       "    .dataframe thead th {\n",
       "        text-align: right;\n",
       "    }\n",
       "</style>\n",
       "<table border=\"1\" class=\"dataframe\">\n",
       "  <thead>\n",
       "    <tr style=\"text-align: right;\">\n",
       "      <th></th>\n",
       "      <th>row_id</th>\n",
       "      <th>engagement_score</th>\n",
       "    </tr>\n",
       "  </thead>\n",
       "  <tbody>\n",
       "    <tr>\n",
       "      <th>0</th>\n",
       "      <td>89198</td>\n",
       "      <td>4.082949</td>\n",
       "    </tr>\n",
       "    <tr>\n",
       "      <th>1</th>\n",
       "      <td>89199</td>\n",
       "      <td>3.925599</td>\n",
       "    </tr>\n",
       "    <tr>\n",
       "      <th>2</th>\n",
       "      <td>89200</td>\n",
       "      <td>2.363062</td>\n",
       "    </tr>\n",
       "    <tr>\n",
       "      <th>3</th>\n",
       "      <td>89201</td>\n",
       "      <td>3.023596</td>\n",
       "    </tr>\n",
       "    <tr>\n",
       "      <th>4</th>\n",
       "      <td>89202</td>\n",
       "      <td>1.968168</td>\n",
       "    </tr>\n",
       "    <tr>\n",
       "      <th>...</th>\n",
       "      <td>...</td>\n",
       "      <td>...</td>\n",
       "    </tr>\n",
       "    <tr>\n",
       "      <th>11116</th>\n",
       "      <td>100314</td>\n",
       "      <td>3.813411</td>\n",
       "    </tr>\n",
       "    <tr>\n",
       "      <th>11117</th>\n",
       "      <td>100315</td>\n",
       "      <td>3.409731</td>\n",
       "    </tr>\n",
       "    <tr>\n",
       "      <th>11118</th>\n",
       "      <td>100316</td>\n",
       "      <td>3.027208</td>\n",
       "    </tr>\n",
       "    <tr>\n",
       "      <th>11119</th>\n",
       "      <td>100317</td>\n",
       "      <td>3.687806</td>\n",
       "    </tr>\n",
       "    <tr>\n",
       "      <th>11120</th>\n",
       "      <td>100318</td>\n",
       "      <td>2.865871</td>\n",
       "    </tr>\n",
       "  </tbody>\n",
       "</table>\n",
       "<p>11121 rows × 2 columns</p>\n",
       "</div>"
      ],
      "text/plain": [
       "       row_id  engagement_score\n",
       "0       89198          4.082949\n",
       "1       89199          3.925599\n",
       "2       89200          2.363062\n",
       "3       89201          3.023596\n",
       "4       89202          1.968168\n",
       "...       ...               ...\n",
       "11116  100314          3.813411\n",
       "11117  100315          3.409731\n",
       "11118  100316          3.027208\n",
       "11119  100317          3.687806\n",
       "11120  100318          2.865871\n",
       "\n",
       "[11121 rows x 2 columns]"
      ]
     },
     "execution_count": 982,
     "metadata": {},
     "output_type": "execute_result"
    }
   ],
   "source": [
    "final_submission"
   ]
  },
  {
   "cell_type": "code",
   "execution_count": null,
   "id": "a6b13093",
   "metadata": {},
   "outputs": [],
   "source": []
  }
 ],
 "metadata": {
  "kernelspec": {
   "display_name": "gpu2",
   "language": "python",
   "name": "gpu2"
  },
  "language_info": {
   "codemirror_mode": {
    "name": "ipython",
    "version": 3
   },
   "file_extension": ".py",
   "mimetype": "text/x-python",
   "name": "python",
   "nbconvert_exporter": "python",
   "pygments_lexer": "ipython3",
   "version": "3.6.13"
  }
 },
 "nbformat": 4,
 "nbformat_minor": 5
}
